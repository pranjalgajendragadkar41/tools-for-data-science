{
 "cells": [
  {
   "cell_type": "markdown",
   "id": "3562074a-6332-413e-9ba1-279fe5e79dce",
   "metadata": {},
   "source": [
    "# Data Science Tools and Ecosystem"
   ]
  },
  {
   "cell_type": "markdown",
   "id": "b2eb7d75-13f9-4dab-9bb8-7969be5103da",
   "metadata": {},
   "source": [
    "In this notebook, Data science Tools and Ecosystem are summarized"
   ]
  },
  {
   "cell_type": "markdown",
   "id": "a34e96c3-7f8f-48f3-89fa-5d219ec0e468",
   "metadata": {},
   "source": [
    "Some of the popular languages that Data Scientists use are:\n",
    "1. Python\n",
    "2. R\n",
    "3. Julia"
   ]
  },
  {
   "cell_type": "markdown",
   "id": "d2da277c-b8aa-49af-9eab-f95b45cdf478",
   "metadata": {},
   "source": [
    "Some of the commonly used libraries used by Data Scientists include:\n",
    "1. Pandas\n",
    "2. NumPy\n",
    "3. Scikit-learn"
   ]
  },
  {
   "cell_type": "markdown",
   "id": "b7f95f53-178d-4120-8d30-7e56557199c6",
   "metadata": {},
   "source": [
    "| Data Science Tools |\n",
    "|--------------------|\n",
    "| Jupyter Notebook   |\n",
    "| RStudio            |\n",
    "| VS Code            |"
   ]
  },
  {
   "cell_type": "markdown",
   "id": "11fb112a-b8c3-49c8-9508-28cec30aebd9",
   "metadata": {
    "tags": []
   },
   "source": [
    "### Below are a few examples of evaluating arithmetic expressions in Python."
   ]
  },
  {
   "cell_type": "code",
   "execution_count": 5,
   "id": "9af1592a-7383-41d3-a330-045c4593833f",
   "metadata": {
    "tags": []
   },
   "outputs": [
    {
     "data": {
      "text/plain": [
       "17"
      ]
     },
     "execution_count": 5,
     "metadata": {},
     "output_type": "execute_result"
    }
   ],
   "source": [
    "# This is a simple arithmetic expression to multiply then add integers.\n",
    "result = (3 * 4) + 5\n",
    "result"
   ]
  },
  {
   "cell_type": "code",
   "execution_count": 6,
   "id": "32b83020-e15a-480a-bc80-076788bcdecb",
   "metadata": {
    "tags": []
   },
   "outputs": [
    {
     "data": {
      "text/plain": [
       "3.3333333333333335"
      ]
     },
     "execution_count": 6,
     "metadata": {},
     "output_type": "execute_result"
    }
   ],
   "source": [
    "# This will convert 200 minutes to hours by dividing by 60.\n",
    "hours = 200 / 60\n",
    "hours"
   ]
  },
  {
   "cell_type": "markdown",
   "id": "6875563d-3924-4221-8a3b-081dae091a11",
   "metadata": {
    "tags": []
   },
   "source": [
    "**Objectives:**\n",
    "- List popular languages for Data Science\n",
    "1. Python\n",
    "2. R\n",
    "3. Julia\n",
    "- Highlight common libraries used in Data Science\n",
    "1. Pandas\n",
    "2. Numpy\n",
    "3. Scikit-learn\n",
    "- Introduce basic arithmetic expressions in Python\n",
    "1. Expression to multiply then add integers\n",
    "2. Convert minutes to hours dividing by 60"
   ]
  },
  {
   "cell_type": "markdown",
   "id": "8e3b263f-53cc-425e-83df-6ea0f19cba56",
   "metadata": {},
   "source": [
    "## Author\n",
    "Pranjal Gopalkrishna Gajendragadkar"
   ]
  }
 ],
 "metadata": {
  "kernelspec": {
   "display_name": "Python",
   "language": "python",
   "name": "conda-env-python-py"
  },
  "language_info": {
   "codemirror_mode": {
    "name": "ipython",
    "version": 3
   },
   "file_extension": ".py",
   "mimetype": "text/x-python",
   "name": "python",
   "nbconvert_exporter": "python",
   "pygments_lexer": "ipython3",
   "version": "3.7.12"
  }
 },
 "nbformat": 4,
 "nbformat_minor": 5
}
